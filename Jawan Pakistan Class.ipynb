{
 "cells": [
  {
   "cell_type": "code",
   "execution_count": 18,
   "id": "7fff8fd2",
   "metadata": {},
   "outputs": [
    {
     "name": "stdout",
     "output_type": "stream",
     "text": [
      "1 a\n",
      "2 b\n",
      "3 c\n",
      "4 d\n"
     ]
    }
   ],
   "source": [
    "a = {1: 'a' ,2:'b' ,3:'c'}\n",
    "a[4] = 'd'\n",
    "\n",
    "for key,value in a.items():\n",
    "    print(key,value)"
   ]
  },
  {
   "cell_type": "code",
   "execution_count": 22,
   "id": "65e30736",
   "metadata": {},
   "outputs": [
    {
     "name": "stdout",
     "output_type": "stream",
     "text": [
      "Enter hh\n"
     ]
    },
    {
     "data": {
      "text/plain": [
       "{1: 'a', 2: 'b', 3: 'c', 4: ['d', 'e', 'f', 'g', 'h']}"
      ]
     },
     "execution_count": 22,
     "metadata": {},
     "output_type": "execute_result"
    }
   ],
   "source": [
    "a = {1: 'a' ,2:'b' ,3:'c' ,4: ['d' , 'e' , 'f' , 'g']}\n",
    "\n",
    "inp = input(\"Enter h\")\n",
    "a[4].append(inp)\n",
    "a"
   ]
  },
  {
   "cell_type": "code",
   "execution_count": 26,
   "id": "d2827abd",
   "metadata": {},
   "outputs": [
    {
     "data": {
      "text/plain": [
       "{1: 'a', 2: 'b', 3: 'c', 4: ['d', 'e', 'f', 'g'], 5: {6: 'h', 7: 'i', 8: 'j'}}"
      ]
     },
     "execution_count": 26,
     "metadata": {},
     "output_type": "execute_result"
    }
   ],
   "source": [
    "a = {1: 'a' ,2:'b' ,3:'c' ,4: ['d' , 'e' , 'f' , 'g'],5:{6: 'h' ,7:'i' ,8:'j'}}\n",
    "a"
   ]
  },
  {
   "cell_type": "code",
   "execution_count": 28,
   "id": "c3b0617a",
   "metadata": {},
   "outputs": [
    {
     "data": {
      "text/plain": [
       "{1: 'a',\n",
       " 2: 'b',\n",
       " 3: 'c',\n",
       " 4: ['d', 'e', 'f', 'g'],\n",
       " 5: {6: 'h', 7: 'i', 8: 'j', 9: 'k'}}"
      ]
     },
     "execution_count": 28,
     "metadata": {},
     "output_type": "execute_result"
    }
   ],
   "source": [
    "a[5][9] = 'k'\n",
    "a"
   ]
  },
  {
   "cell_type": "code",
   "execution_count": 35,
   "id": "09457498",
   "metadata": {},
   "outputs": [
    {
     "name": "stdout",
     "output_type": "stream",
     "text": [
      "(3, 'c')\n"
     ]
    }
   ],
   "source": [
    "a = {1: 'a' ,2:'b' ,3:'c'}\n",
    "b = []\n",
    "b.append(a.pop(1))\n",
    "print(a.popitem())"
   ]
  },
  {
   "cell_type": "code",
   "execution_count": 38,
   "id": "db312a82",
   "metadata": {},
   "outputs": [
    {
     "name": "stdout",
     "output_type": "stream",
     "text": [
      "h\n"
     ]
    }
   ],
   "source": [
    "a = {1: 'a' ,2:'b' ,3:'c' ,4: ['d' , 'e' , 'f' , 'g'],5:{6: 'h' ,7:'i' ,8:'j'}}\n",
    "\n",
    "print(a[5].pop(6))"
   ]
  },
  {
   "cell_type": "code",
   "execution_count": 39,
   "id": "1878e4eb",
   "metadata": {},
   "outputs": [
    {
     "name": "stdout",
     "output_type": "stream",
     "text": [
      "9\n"
     ]
    }
   ],
   "source": [
    "a = 3\n",
    "b = 6\n",
    "c = a+b\n",
    "print(c)"
   ]
  },
  {
   "cell_type": "code",
   "execution_count": 44,
   "id": "9d01b43c",
   "metadata": {},
   "outputs": [
    {
     "name": "stdout",
     "output_type": "stream",
     "text": [
      "select number.\n",
      "1 Add\n",
      "3 Subtract\n",
      "3 Multiply\n",
      "4 Divide\n",
      "Enter Choice(1/2/3/4): 4\n",
      "Enter First Number: 34\n",
      "Enter Second Number: 2\n",
      "34.0 / 2.0 = 17.0\n",
      "Let's do next calculation? (yes/no): no\n"
     ]
    }
   ],
   "source": [
    "def add(x,y):\n",
    "    return x + y\n",
    "\n",
    "def subtract(x,y):\n",
    "    return x - y\n",
    "\n",
    "def multiply(x,y):\n",
    "    return x * y\n",
    "\n",
    "def divide(x,y):\n",
    "    return x / y\n",
    "\n",
    "print(\"select number.\")\n",
    "print(\"1 Add\")\n",
    "print(\"3 Subtract\")\n",
    "print(\"3 Multiply\")\n",
    "print(\"4 Divide\")\n",
    "\n",
    "while True:\n",
    "    choice = input(\"Enter Choice(1/2/3/4): \")\n",
    "    \n",
    "    if choice in ('1', '2', '3', '4'):\n",
    "        num1 = float(input(\"Enter First Number: \"))\n",
    "        num2 = float(input(\"Enter Second Number: \"))\n",
    "    \n",
    "    if choice == '1':\n",
    "        print(num1, \"+\", num2, \"=\", add(num1, num2))\n",
    "        \n",
    "    elif choice == '2':\n",
    "             print(num1, \"-\", num2, \"=\", subtract(num1, num2))\n",
    "                \n",
    "    elif choice == '3':\n",
    "            print(num1, \"*\", num2, \"=\", multiply(num1, num2))\n",
    "            \n",
    "            \n",
    "    elif choice == '4':\n",
    "                print(num1, \"/\", num2, \"=\", divide(num1, num2))\n",
    "                \n",
    "                \n",
    "                next_calculation = input(\"Let's do next calculation? (yes/no): \")\n",
    "                if next_calculation == \"no\":\n",
    "                    break\n",
    "                    \n",
    "                else:\n",
    "                    print(\"Invalid Input\")"
   ]
  },
  {
   "cell_type": "code",
   "execution_count": 50,
   "id": "598bfc7b",
   "metadata": {},
   "outputs": [
    {
     "name": "stdout",
     "output_type": "stream",
     "text": [
      "9\n"
     ]
    }
   ],
   "source": [
    "a = 3\n",
    "b = 6\n",
    "c = a+b\n",
    "\n",
    "def sum (a,b):\n",
    "    return a+b\n",
    "   \n",
    "c = sum(5,4)    \n",
    "print(c)"
   ]
  },
  {
   "cell_type": "markdown",
   "id": "17700510",
   "metadata": {},
   "source": [
    "# Classes"
   ]
  },
  {
   "cell_type": "code",
   "execution_count": 9,
   "id": "21282252",
   "metadata": {},
   "outputs": [
    {
     "ename": "SyntaxError",
     "evalue": "invalid syntax (<ipython-input-9-57a34654bd04>, line 8)",
     "output_type": "error",
     "traceback": [
      "\u001b[1;36m  File \u001b[1;32m\"<ipython-input-9-57a34654bd04>\"\u001b[1;36m, line \u001b[1;32m8\u001b[0m\n\u001b[1;33m    print(f\"First name is: {self.first_name} and last name is: {self.last_name} and salary is: {self.salary}\"):\u001b[0m\n\u001b[1;37m                                                                                                               ^\u001b[0m\n\u001b[1;31mSyntaxError\u001b[0m\u001b[1;31m:\u001b[0m invalid syntax\n"
     ]
    }
   ],
   "source": [
    "class Employee:\n",
    "    def __init__(self,first_name,last_name,salary):\n",
    "            self.first_name = first_name\n",
    "            self.last_name = last_name\n",
    "            self.salary = salary\n",
    "        \n",
    "    def display_employee(self):\n",
    "            print(f\"First name is: {self.first_name} and last name is: {self.last_name} and salary is: {self.salary}\"):\n",
    "                \n",
    "    def change_salary(self,increment):\n",
    "        self.salary = increment"
   ]
  },
  {
   "cell_type": "code",
   "execution_count": 23,
   "id": "15feb163",
   "metadata": {},
   "outputs": [
    {
     "ename": "TypeError",
     "evalue": "__init__() takes 3 positional arguments but 4 were given",
     "output_type": "error",
     "traceback": [
      "\u001b[1;31m---------------------------------------------------------------------------\u001b[0m",
      "\u001b[1;31mTypeError\u001b[0m                                 Traceback (most recent call last)",
      "\u001b[1;32m<ipython-input-23-b5683e4d7ce0>\u001b[0m in \u001b[0;36m<module>\u001b[1;34m\u001b[0m\n\u001b[1;32m----> 1\u001b[1;33m \u001b[0memp1\u001b[0m \u001b[1;33m=\u001b[0m \u001b[0mEmployee\u001b[0m\u001b[1;33m(\u001b[0m\u001b[1;34m\"Owais\"\u001b[0m\u001b[1;33m,\u001b[0m \u001b[1;34m\"Lodhi\"\u001b[0m\u001b[1;33m,\u001b[0m\u001b[1;36m22000\u001b[0m\u001b[1;33m)\u001b[0m\u001b[1;33m\u001b[0m\u001b[1;33m\u001b[0m\u001b[0m\n\u001b[0m\u001b[0;32m      2\u001b[0m \u001b[0memp1\u001b[0m\u001b[1;33m.\u001b[0m\u001b[0mdisplay_employee\u001b[0m\u001b[1;33m(\u001b[0m\u001b[1;33m)\u001b[0m\u001b[1;33m\u001b[0m\u001b[1;33m\u001b[0m\u001b[0m\n\u001b[0;32m      3\u001b[0m \u001b[0memp1\u001b[0m\u001b[1;33m.\u001b[0m\u001b[0mchange_salary\u001b[0m\u001b[1;33m(\u001b[0m\u001b[1;36m23000\u001b[0m\u001b[1;33m)\u001b[0m\u001b[1;33m\u001b[0m\u001b[1;33m\u001b[0m\u001b[0m\n\u001b[0;32m      4\u001b[0m \u001b[0memp1\u001b[0m\u001b[1;33m.\u001b[0m\u001b[0mdisplay_employee\u001b[0m\u001b[1;33m(\u001b[0m\u001b[1;33m)\u001b[0m\u001b[1;33m\u001b[0m\u001b[1;33m\u001b[0m\u001b[0m\n",
      "\u001b[1;31mTypeError\u001b[0m: __init__() takes 3 positional arguments but 4 were given"
     ]
    }
   ],
   "source": [
    "emp1 = Employee(\"Owais\", \"Lodhi\",22000)\n",
    "emp1.display_employee()\n",
    "emp1.change_salary(23000)\n",
    "emp1.display_employee()"
   ]
  },
  {
   "cell_type": "markdown",
   "id": "4d61e9b7",
   "metadata": {},
   "source": [
    "#Library Management"
   ]
  },
  {
   "cell_type": "code",
   "execution_count": 52,
   "id": "bd279ad8",
   "metadata": {},
   "outputs": [
    {
     "ename": "IndentationError",
     "evalue": "unindent does not match any outer indentation level (<tokenize>, line 13)",
     "output_type": "error",
     "traceback": [
      "\u001b[1;36m  File \u001b[1;32m\"<tokenize>\"\u001b[1;36m, line \u001b[1;32m13\u001b[0m\n\u001b[1;33m    else:\u001b[0m\n\u001b[1;37m    ^\u001b[0m\n\u001b[1;31mIndentationError\u001b[0m\u001b[1;31m:\u001b[0m unindent does not match any outer indentation level\n"
     ]
    }
   ],
   "source": [
    " class Library:\n",
    "        def __init__(self, list_of_books):\n",
    "                self.available_books = list_of_books\n",
    "                \n",
    "        def display(self):\n",
    "                print(\"Available books in library are: \")\n",
    "                for book in available_books:\n",
    "                    print(book)\n",
    "        def lend_book(self,requested_book):\n",
    "              if  requested_book in self.available_books:\n",
    "                    print(f\"You have borrowed the book {requested_book}\")\n",
    "                    self.available_books.remove(requested_book)\n",
    "            else:\n",
    "                    print(\"We dont have that book\")\n",
    "        def add_book(self,book):\n",
    "               if book in self.avaliable_book:\n",
    "                     print(\"We have this book already\")\n",
    "            else:\n",
    "                     print(\"Thank you for the book\")\n",
    "                        self.available_books.append(book)\n",
    "                \n",
    "class Customer:\n",
    "        def request_book(self) :\n",
    "              self.book = input(\"Enter the book name you want. \")\n",
    "                return self.book\n",
    "        def return_book(self):\n",
    "              self.book = input(\"Enter the book name you want to return. \")\n",
    "                return self.book\n",
    "        \n",
    "        \n",
    "\n",
    "library = Library([\"Harry Potter\",\"Game of Throne\",\"Black Beauty\",\"Rich dad Poor Dad\"])\n",
    "customer = Customer()\n",
    "\n",
    "while True:\n",
    "        print(\"Enter 1 to display books\")\n",
    "        print(\"Enter 2 to lend a book\")\n",
    "        print(\"Enter 3 to return a book\")\n",
    "        print(\"Enter 4 to quit\")\n",
    "        \n",
    "        user_choice = int(input())\n",
    "        \n",
    "        if user_choice == 1:\n",
    "            library.display()\n",
    "        elif user_choice == 2:\n",
    "            requested_book = customer.request_book()\n",
    "            library.lend_book(requested_book)\n",
    "        elif user_choice == 3:\n",
    "            returned_book = customer.return_book()\n",
    "            library.add_book(returned_book)\n",
    "        elif user_choice == 4:\n",
    "            break"
   ]
  },
  {
   "cell_type": "code",
   "execution_count": null,
   "id": "0a251534",
   "metadata": {},
   "outputs": [],
   "source": []
  }
 ],
 "metadata": {
  "kernelspec": {
   "display_name": "Python 3",
   "language": "python",
   "name": "python3"
  },
  "language_info": {
   "codemirror_mode": {
    "name": "ipython",
    "version": 3
   },
   "file_extension": ".py",
   "mimetype": "text/x-python",
   "name": "python",
   "nbconvert_exporter": "python",
   "pygments_lexer": "ipython3",
   "version": "3.8.8"
  }
 },
 "nbformat": 4,
 "nbformat_minor": 5
}
