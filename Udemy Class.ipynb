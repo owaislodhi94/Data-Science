{
 "cells": [
  {
   "cell_type": "code",
   "execution_count": 1,
   "id": "1ac044b8",
   "metadata": {},
   "outputs": [
    {
     "name": "stdout",
     "output_type": "stream",
     "text": [
      "25\n"
     ]
    }
   ],
   "source": [
    "print((20-3) + 2 ** 3)"
   ]
  },
  {
   "cell_type": "code",
   "execution_count": 11,
   "id": "8b4abdff",
   "metadata": {},
   "outputs": [
    {
     "data": {
      "text/plain": [
       "'0b10111110'"
      ]
     },
     "execution_count": 11,
     "metadata": {},
     "output_type": "execute_result"
    }
   ],
   "source": [
    "bin(190)"
   ]
  },
  {
   "cell_type": "code",
   "execution_count": null,
   "id": "f6c0f2cd",
   "metadata": {},
   "outputs": [],
   "source": [
    "### Variables store information \n",
    "iq = 190"
   ]
  },
  {
   "cell_type": "code",
   "execution_count": 7,
   "id": "498aaafe",
   "metadata": {},
   "outputs": [
    {
     "data": {
      "text/plain": [
       "'-0b101001111101100100101101'"
      ]
     },
     "execution_count": 7,
     "metadata": {},
     "output_type": "execute_result"
    }
   ],
   "source": [
    "\n",
    "bin(1001 - 11001110)"
   ]
  },
  {
   "cell_type": "code",
   "execution_count": 13,
   "id": "00ccd09b",
   "metadata": {},
   "outputs": [
    {
     "data": {
      "text/plain": [
       "'0b11000011010100000'"
      ]
     },
     "execution_count": 13,
     "metadata": {},
     "output_type": "execute_result"
    }
   ],
   "source": [
    "bin(100000)"
   ]
  },
  {
   "cell_type": "code",
   "execution_count": null,
   "id": "b8fbed28",
   "metadata": {},
   "outputs": [],
   "source": []
  }
 ],
 "metadata": {
  "kernelspec": {
   "display_name": "Python 3",
   "language": "python",
   "name": "python3"
  },
  "language_info": {
   "codemirror_mode": {
    "name": "ipython",
    "version": 3
   },
   "file_extension": ".py",
   "mimetype": "text/x-python",
   "name": "python",
   "nbconvert_exporter": "python",
   "pygments_lexer": "ipython3",
   "version": "3.8.8"
  }
 },
 "nbformat": 4,
 "nbformat_minor": 5
}
